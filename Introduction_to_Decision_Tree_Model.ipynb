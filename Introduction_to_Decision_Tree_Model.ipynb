{
  "nbformat": 4,
  "nbformat_minor": 0,
  "metadata": {
    "colab": {
      "name": "Introduction to Decision Tree Model.ipynb",
      "provenance": [],
      "collapsed_sections": []
    },
    "kernelspec": {
      "name": "python3",
      "display_name": "Python 3"
    },
    "language_info": {
      "name": "python"
    }
  },
  "cells": [
    {
      "cell_type": "code",
      "metadata": {
        "colab": {
          "base_uri": "https://localhost:8080/"
        },
        "id": "qApFV3lo_pwg",
        "outputId": "7d080dd0-b1a5-4fe4-a1bb-ad804c467d14"
      },
      "source": [
        "from google.colab import drive\n",
        "drive.mount('/content/drive')"
      ],
      "execution_count": 1,
      "outputs": [
        {
          "output_type": "stream",
          "name": "stdout",
          "text": [
            "Mounted at /content/drive\n"
          ]
        }
      ]
    },
    {
      "cell_type": "code",
      "metadata": {
        "colab": {
          "base_uri": "https://localhost:8080/"
        },
        "id": "8ofZ2Z2r_rie",
        "outputId": "20349868-4c82-4673-e9dc-bfa8e288b3c9"
      },
      "source": [
        "%cd /content/drive/My Drive/Colab Notebooks/time_series_data"
      ],
      "execution_count": 2,
      "outputs": [
        {
          "output_type": "stream",
          "name": "stdout",
          "text": [
            "/content/drive/My Drive/Colab Notebooks/time_series_data\n"
          ]
        }
      ]
    },
    {
      "cell_type": "markdown",
      "metadata": {
        "id": "7KqhlZseBI8-"
      },
      "source": [
        "A building block to Random Forest is a Decision Tree. Decision trees start with a root node and end with a leaf node. For numeric feature, tree split on each unique value of each data. Tree-based models may poorly handle trends in data, compared to linear models, so you have to detrend your series first, which was done in the previous video."
      ]
    },
    {
      "cell_type": "code",
      "metadata": {
        "id": "5T1bEOHDBgC6"
      },
      "source": [
        "import pandas as pd\n",
        "import matplotlib.pyplot as plt\n",
        "import numpy as np\n"
      ],
      "execution_count": 3,
      "outputs": []
    },
    {
      "cell_type": "code",
      "metadata": {
        "colab": {
          "base_uri": "https://localhost:8080/",
          "height": 203
        },
        "id": "L38RqOCZBmJD",
        "outputId": "1d39bc5e-8c99-43b1-b976-bf4baa70e582"
      },
      "source": [
        "# Vacation data\n",
        "# Load the data\n",
        "df1= pd.read_csv('vacation_lags_12months_features.csv', header=0)\n",
        "df1.head()"
      ],
      "execution_count": 4,
      "outputs": [
        {
          "output_type": "execute_result",
          "data": {
            "text/html": [
              "<div>\n",
              "<style scoped>\n",
              "    .dataframe tbody tr th:only-of-type {\n",
              "        vertical-align: middle;\n",
              "    }\n",
              "\n",
              "    .dataframe tbody tr th {\n",
              "        vertical-align: top;\n",
              "    }\n",
              "\n",
              "    .dataframe thead th {\n",
              "        text-align: right;\n",
              "    }\n",
              "</style>\n",
              "<table border=\"1\" class=\"dataframe\">\n",
              "  <thead>\n",
              "    <tr style=\"text-align: right;\">\n",
              "      <th></th>\n",
              "      <th>t-12</th>\n",
              "      <th>t-11</th>\n",
              "      <th>t-10</th>\n",
              "      <th>t-9</th>\n",
              "      <th>t-8</th>\n",
              "      <th>t-7</th>\n",
              "      <th>t-6</th>\n",
              "      <th>t-5</th>\n",
              "      <th>t-4</th>\n",
              "      <th>t-3</th>\n",
              "      <th>t-2</th>\n",
              "      <th>t-1</th>\n",
              "      <th>t</th>\n",
              "    </tr>\n",
              "  </thead>\n",
              "  <tbody>\n",
              "    <tr>\n",
              "      <th>0</th>\n",
              "      <td>10.0</td>\n",
              "      <td>9.0</td>\n",
              "      <td>-2.0</td>\n",
              "      <td>-17.0</td>\n",
              "      <td>-18.0</td>\n",
              "      <td>-1.0</td>\n",
              "      <td>3.0</td>\n",
              "      <td>4.0</td>\n",
              "      <td>33.0</td>\n",
              "      <td>-6.0</td>\n",
              "      <td>-3.0</td>\n",
              "      <td>-11.0</td>\n",
              "      <td>3.0</td>\n",
              "    </tr>\n",
              "    <tr>\n",
              "      <th>1</th>\n",
              "      <td>9.0</td>\n",
              "      <td>-2.0</td>\n",
              "      <td>-17.0</td>\n",
              "      <td>-18.0</td>\n",
              "      <td>-1.0</td>\n",
              "      <td>3.0</td>\n",
              "      <td>4.0</td>\n",
              "      <td>33.0</td>\n",
              "      <td>-6.0</td>\n",
              "      <td>-3.0</td>\n",
              "      <td>-11.0</td>\n",
              "      <td>3.0</td>\n",
              "      <td>13.0</td>\n",
              "    </tr>\n",
              "    <tr>\n",
              "      <th>2</th>\n",
              "      <td>-2.0</td>\n",
              "      <td>-17.0</td>\n",
              "      <td>-18.0</td>\n",
              "      <td>-1.0</td>\n",
              "      <td>3.0</td>\n",
              "      <td>4.0</td>\n",
              "      <td>33.0</td>\n",
              "      <td>-6.0</td>\n",
              "      <td>-3.0</td>\n",
              "      <td>-11.0</td>\n",
              "      <td>3.0</td>\n",
              "      <td>13.0</td>\n",
              "      <td>-4.0</td>\n",
              "    </tr>\n",
              "    <tr>\n",
              "      <th>3</th>\n",
              "      <td>-17.0</td>\n",
              "      <td>-18.0</td>\n",
              "      <td>-1.0</td>\n",
              "      <td>3.0</td>\n",
              "      <td>4.0</td>\n",
              "      <td>33.0</td>\n",
              "      <td>-6.0</td>\n",
              "      <td>-3.0</td>\n",
              "      <td>-11.0</td>\n",
              "      <td>3.0</td>\n",
              "      <td>13.0</td>\n",
              "      <td>-4.0</td>\n",
              "      <td>-16.0</td>\n",
              "    </tr>\n",
              "    <tr>\n",
              "      <th>4</th>\n",
              "      <td>-18.0</td>\n",
              "      <td>-1.0</td>\n",
              "      <td>3.0</td>\n",
              "      <td>4.0</td>\n",
              "      <td>33.0</td>\n",
              "      <td>-6.0</td>\n",
              "      <td>-3.0</td>\n",
              "      <td>-11.0</td>\n",
              "      <td>3.0</td>\n",
              "      <td>13.0</td>\n",
              "      <td>-4.0</td>\n",
              "      <td>-16.0</td>\n",
              "      <td>-20.0</td>\n",
              "    </tr>\n",
              "  </tbody>\n",
              "</table>\n",
              "</div>"
            ],
            "text/plain": [
              "   t-12  t-11  t-10   t-9   t-8   t-7   t-6   t-5   t-4   t-3   t-2   t-1     t\n",
              "0  10.0   9.0  -2.0 -17.0 -18.0  -1.0   3.0   4.0  33.0  -6.0  -3.0 -11.0   3.0\n",
              "1   9.0  -2.0 -17.0 -18.0  -1.0   3.0   4.0  33.0  -6.0  -3.0 -11.0   3.0  13.0\n",
              "2  -2.0 -17.0 -18.0  -1.0   3.0   4.0  33.0  -6.0  -3.0 -11.0   3.0  13.0  -4.0\n",
              "3 -17.0 -18.0  -1.0   3.0   4.0  33.0  -6.0  -3.0 -11.0   3.0  13.0  -4.0 -16.0\n",
              "4 -18.0  -1.0   3.0   4.0  33.0  -6.0  -3.0 -11.0   3.0  13.0  -4.0 -16.0 -20.0"
            ]
          },
          "metadata": {},
          "execution_count": 4
        }
      ]
    },
    {
      "cell_type": "code",
      "metadata": {
        "id": "W5k8HrJ7B0zm"
      },
      "source": [
        "# split data\n",
        "vacat = df1.values\n",
        "# split into lagged variables and origianl time series\n",
        "X1= vacat[:, 0:-1]# Slice all rows and start with column 0 and go up to but not including the last column\n",
        "y1 = vacat[:,-1] # Slice all rows and last column, esssentially seperating out 't' column"
      ],
      "execution_count": 5,
      "outputs": []
    },
    {
      "cell_type": "code",
      "metadata": {
        "colab": {
          "base_uri": "https://localhost:8080/"
        },
        "id": "iFOenItNCOoF",
        "outputId": "8f18bf2d-845a-4ecb-82e2-29cc7a1e3d5a"
      },
      "source": [
        "# Columns t-1 to t-12 which are the lagged variables\n",
        "X1\n",
        "# column t which is the origianl time series"
      ],
      "execution_count": 6,
      "outputs": [
        {
          "output_type": "execute_result",
          "data": {
            "text/plain": [
              "array([[ 10.,   9.,  -2., ...,  -6.,  -3., -11.],\n",
              "       [  9.,  -2., -17., ...,  -3., -11.,   3.],\n",
              "       [ -2., -17., -18., ..., -11.,   3.,  13.],\n",
              "       ...,\n",
              "       [-11., -12.,  -1., ...,   1.,  11.,  -2.],\n",
              "       [-12.,  -1.,   4., ...,  11.,  -2., -11.],\n",
              "       [ -1.,   4.,  15., ...,  -2., -11.,  -7.]])"
            ]
          },
          "metadata": {},
          "execution_count": 6
        }
      ]
    },
    {
      "cell_type": "code",
      "metadata": {
        "colab": {
          "base_uri": "https://localhost:8080/"
        },
        "id": "5BNGFEziCXGg",
        "outputId": "56d84a76-3e5f-46c4-8405-bbb802bdc0ee"
      },
      "source": [
        "y1[0:10]"
      ],
      "execution_count": 7,
      "outputs": [
        {
          "output_type": "execute_result",
          "data": {
            "text/plain": [
              "array([  3.,  13.,  -4., -16., -20.,  -2.,   3.,   3.,  30., -11.])"
            ]
          },
          "metadata": {},
          "execution_count": 7
        }
      ]
    },
    {
      "cell_type": "markdown",
      "metadata": {
        "id": "LtQ9-x8fCc3g"
      },
      "source": [
        "Below you can alter the splits as 50-50, 60-40, 70-30 , 75-25, 80-20, and 85-15, etc. So 0.8 is a 80-20 splot"
      ]
    },
    {
      "cell_type": "code",
      "metadata": {
        "colab": {
          "base_uri": "https://localhost:8080/"
        },
        "id": "pAbek0ETCaV4",
        "outputId": "e667ac83-8a45-4dba-8d87-1f5baf1f66ae"
      },
      "source": [
        "# Target train-test split\n",
        "Y1=y1\n",
        "traintarget_size = int(len(Y1)* 0.8)# Set split\n",
        "train_target, tesst_target = Y1[0:traintarget_size], Y1[traintarget_size:len(Y1)]\n",
        "print('Observations for Target: %d' %( len(Y1)))\n",
        "print('Traing Observations for Target: %d' %( len(train_target)))\n",
        "print('Testing Observations for Target: %d' %( len(tesst_target)))"
      ],
      "execution_count": 8,
      "outputs": [
        {
          "output_type": "stream",
          "name": "stdout",
          "text": [
            "Observations for Target: 174\n",
            "Traing Observations for Target: 139\n",
            "Testing Observations for Target: 35\n"
          ]
        }
      ]
    },
    {
      "cell_type": "code",
      "metadata": {
        "colab": {
          "base_uri": "https://localhost:8080/"
        },
        "id": "0eO7mTx3Da0C",
        "outputId": "a62d0838-6bb7-48c3-fc49-8567e85d9ff3"
      },
      "source": [
        "# Featueres train test split\n",
        "trainfeature_size =  int(len(X1)*0.8)\n",
        "train_feature, test_feature = X1[0:trainfeature_size], X1[trainfeature_size:len(X1)]\n",
        "print('Observations for Feature: %d' %( len(X1)))\n",
        "print('Traing Observations for Feature: %d' %( len(train_feature)))\n",
        "print('Testing Observations for Feature: %d' %( len(test_feature)))"
      ],
      "execution_count": 9,
      "outputs": [
        {
          "output_type": "stream",
          "name": "stdout",
          "text": [
            "Observations for Feature: 174\n",
            "Traing Observations for Feature: 139\n",
            "Testing Observations for Feature: 35\n"
          ]
        }
      ]
    },
    {
      "cell_type": "code",
      "metadata": {
        "colab": {
          "base_uri": "https://localhost:8080/"
        },
        "id": "Mf1J7R_vD5Ov",
        "outputId": "840ce0f8-5629-4e8c-e352-46fdaac9688c"
      },
      "source": [
        "# Decision Tree Regression Model\n",
        "from sklearn.tree import DecisionTreeRegressor\n",
        "# Create a decision tree regression model with defeaut arguments\n",
        "decision_tree_vacat = DecisionTreeRegressor() # max-depth not set\n",
        "\n",
        "# Fit the model to the training features and targets\n",
        "decision_tree_vacat.fit(train_feature, train_target)\n",
        "\n",
        "# check the score on train and test\n",
        "print(decision_tree_vacat.score(train_feature, train_target))\n",
        "print(decision_tree_vacat.score(test_feature, tesst_target)) # Predictions are horrible if negative value, no relationship if 0"
      ],
      "execution_count": 11,
      "outputs": [
        {
          "output_type": "stream",
          "name": "stdout",
          "text": [
            "1.0\n",
            "0.5386421090646443\n"
          ]
        }
      ]
    },
    {
      "cell_type": "code",
      "metadata": {
        "colab": {
          "base_uri": "https://localhost:8080/"
        },
        "id": "cXWfGCTwE2Pj",
        "outputId": "344efa35-5484-40e1-d07b-0f55c8c33e80"
      },
      "source": [
        "# Find the best Max Depth\n",
        "# Loop throgh a few different max dephs and check the performance\n",
        "# Try different max dephs. We want to optimize our ML models to make the best prediction posssible\n",
        "# For regular decision trees, max_depth which is a hyper parameter, limits the number of splits in a tree\n",
        "# You can find the best value of max_depth based on the R-squared score of the model on the test set\n",
        "for d in [2,3,4,5,7,8,10]:\n",
        "  # Create the tree and fit it\n",
        "  decision_tree_vacat = DecisionTreeRegressor(max_depth=d)\n",
        "  decision_tree_vacat.fit(train_feature, train_target)\n",
        "  # Print out the socres on traina nd test\n",
        "  print('max depth= ', str(d))\n",
        "  print(decision_tree_vacat.score(train_feature, train_target))\n",
        "  print(decision_tree_vacat.score(test_feature, tesst_target), '\\n')\n",
        "  # you want to test score to be possitive and high"
      ],
      "execution_count": 13,
      "outputs": [
        {
          "output_type": "stream",
          "name": "stdout",
          "text": [
            "max depth=  2\n",
            "0.836755084049483\n",
            "0.5100670898047248 \n",
            "\n",
            "max depth=  3\n",
            "0.9202849260705976\n",
            "0.5338183325628844 \n",
            "\n",
            "max depth=  4\n",
            "0.9505108563131668\n",
            "0.5424299225198469 \n",
            "\n",
            "max depth=  5\n",
            "0.9731320934255739\n",
            "0.551324477014031 \n",
            "\n",
            "max depth=  7\n",
            "0.9945227439718145\n",
            "0.5712678005641382 \n",
            "\n",
            "max depth=  8\n",
            "0.9979417202626701\n",
            "0.5679504600609353 \n",
            "\n",
            "max depth=  10\n",
            "0.9998990581954493\n",
            "0.49650896833995417 \n",
            "\n"
          ]
        }
      ]
    },
    {
      "cell_type": "markdown",
      "metadata": {
        "id": "zE_dD8SlF_Pl"
      },
      "source": [
        "Decision-tree learners can create over-complex treees that tdo not generalize the datawell. This is call over fitting"
      ]
    },
    {
      "cell_type": "code",
      "metadata": {
        "colab": {
          "base_uri": "https://localhost:8080/",
          "height": 265
        },
        "id": "j5sJYJx1GK3Y",
        "outputId": "a1241c68-7cc8-4dd9-949b-5784f6f9f574"
      },
      "source": [
        "# Plot the predicted against actual values\n",
        "# use the best max_depth\n",
        "decision_tree_vacat=DecisionTreeRegressor(max_depth=7) # fill in the best max depth here\n",
        "decision_tree_vacat.fit(train_feature, train_target)\n",
        "\n",
        "# preidct values for train and test\n",
        "train_prediction= decision_tree_vacat.predict(train_feature)\n",
        "test_prediction= decision_tree_vacat.predict(test_feature)\n",
        "\n",
        "# Scatter the predictions vs actual values\n",
        "plt.scatter(train_prediction, train_target, label='train')\n",
        "plt.scatter(test_prediction, tesst_target, label='test')\n",
        "plt.show()"
      ],
      "execution_count": 14,
      "outputs": [
        {
          "output_type": "display_data",
          "data": {
            "image/png": "[encoded data removed]",
            "text/plain": [
              "<Figure size 432x288 with 1 Axes>"
            ]
          },
          "metadata": {
            "needs_background": "light"
          }
        }
      ]
    }
  ]
}